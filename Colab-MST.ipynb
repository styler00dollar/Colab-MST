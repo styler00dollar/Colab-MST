{
  "nbformat": 4,
  "nbformat_minor": 0,
  "metadata": {
    "colab": {
      "name": "Colab- MST.ipynb",
      "private_outputs": true,
      "provenance": [],
      "collapsed_sections": []
    },
    "kernelspec": {
      "name": "python3",
      "display_name": "Python 3"
    },
    "language_info": {
      "name": "python"
    },
    "accelerator": "GPU"
  },
  "cells": [
    {
      "cell_type": "markdown",
      "metadata": {
        "id": "i525JfppChBE"
      },
      "source": [
        "# Colab-MST\n",
        "\n",
        "Original repo: [ewrfcas/MST_inpainting](https://github.com/ewrfcas/MST_inpainting)\n",
        "\n",
        "My fork: [styler00dollar/Colab-MST](https://github.com/styler00dollar/Colab-MST)"
      ]
    },
    {
      "cell_type": "code",
      "metadata": {
        "id": "5274odZbEjtZ"
      },
      "source": [
        "!nvidia-smi"
      ],
      "execution_count": null,
      "outputs": []
    },
    {
      "cell_type": "code",
      "metadata": {
        "cellView": "form",
        "id": "3CYU7a05CU8b"
      },
      "source": [
        "#@title install\n",
        "%cd /content/\n",
        "!git clone https://github.com/ewrfcas/MST_inpainting\n",
        "%cd /content/MST_inpainting\n",
        "!mkdir -p /content/MST_inpainting/check_points/LSM_HAWP/\n",
        "%cd ./check_points/LSM_HAWP/\n",
        "!gdown --id 1ZE7pWCI-sTmNZvJOBy2DvL3m1qbybWcH\n",
        "!pip install yacs\n",
        "%cd /content/MST_inpainting/\n",
        "!gdown --id 1wTNmBxaqDTmp0bA2okN_oW60JPIGPR80\n",
        "!gdown --id 1ZcNsq48aZzOmJ2v-nrFh9ugn4jCUaUkL"
      ],
      "execution_count": null,
      "outputs": []
    },
    {
      "cell_type": "code",
      "metadata": {
        "id": "ktFFajiJIGRQ",
        "cellView": "form"
      },
      "source": [
        "#@title create masks from green marked images\n",
        "import cv2\n",
        "import glob\n",
        "import os\n",
        "import numpy as np\n",
        "from tqdm import tqdm\n",
        "rootdir = \"/content/input\"\n",
        "destdir = \"/content/mask\"\n",
        "files = glob.glob(rootdir + '/**/*.png', recursive=True)\n",
        "\n",
        "for f in tqdm(files):\n",
        "  image = cv2.imread(f)\n",
        "  mask = (1-np.all(image == [0,255,0], axis=-1).astype(int))*255\n",
        "  # inverting color\n",
        "  mask = 255-mask \n",
        "  # dilate mask\n",
        "  kernel = np.ones((7,7), np.uint8)\n",
        "  mask = cv2.dilate(mask.astype('uint8'), kernel, iterations=1)\n",
        "  cv2.imwrite(os.path.join(destdir, os.path.basename(f)), mask)"
      ],
      "execution_count": null,
      "outputs": []
    },
    {
      "cell_type": "code",
      "metadata": {
        "id": "V2iwyVZ7Cf4i"
      },
      "source": [
        "# test single image\n",
        "%cd /content/MST_inpainting\n",
        "!python test_single.py --gpu_id 0 \\\n",
        "                      --PATH /content/MST_inpainting \\\n",
        "                      --image_path /content/input/test.png \\\n",
        "                      --mask_path /content/mask/test.png"
      ],
      "execution_count": null,
      "outputs": []
    },
    {
      "cell_type": "code",
      "metadata": {
        "id": "DIKRwk_0FRqv",
        "cellView": "form"
      },
      "source": [
        "#@title test_folder.py\n",
        "%%writefile test_folder.py\n",
        "import argparse\n",
        "import os\n",
        "import random\n",
        "\n",
        "import numpy as np\n",
        "import torch\n",
        "import glob\n",
        "from src.model_inference import MST\n",
        "from utils.utils import Config\n",
        "\n",
        "if __name__ == '__main__':\n",
        "    parser = argparse.ArgumentParser()\n",
        "    parser.add_argument('--image_path', type=str, required=True, help='image path')\n",
        "    parser.add_argument('--mask_path', type=str, required=True, help='mask path')\n",
        "    parser.add_argument('--gpu_id', type=int, default=0, help='gpu id')\n",
        "    parser.add_argument('--PATH', type=str, default='./check_points/MST_P2M',\n",
        "                        help='MST_P2M:Man-made Places2, MST_P2C:Comprehensive Places2, '\n",
        "                             'MST_shanghaitech:all man-made scenes')\n",
        "    parser.add_argument('--valid_th', type=float, default=0.85)\n",
        "    parser.add_argument('--mask_th', type=float, default=0.8)\n",
        "    parser.add_argument('--not_obj_remove', action='store_true', default=False)\n",
        "    parser.add_argument('--config_path', type=str, default='./config.yml', help='config path')\n",
        "\n",
        "    args = parser.parse_args()\n",
        "    os.environ['CUDA_VISIBLE_DEVICES'] = str(args.gpu_id)\n",
        "\n",
        "    # load config file\n",
        "    config = Config(args.config_path)\n",
        "\n",
        "    # test mode\n",
        "    config.PATH = args.PATH\n",
        "    config.valid_th = args.valid_th\n",
        "    config.mask_th = args.mask_th\n",
        "\n",
        "    # init device\n",
        "    if torch.cuda.is_available():\n",
        "        config.DEVICE = torch.device(\"cuda\")\n",
        "        torch.backends.cudnn.benchmark = True\n",
        "    else:\n",
        "        config.DEVICE = torch.device(\"cpu\")\n",
        "\n",
        "    print('DEVICE:', config.DEVICE)\n",
        "\n",
        "    # initialize random seed\n",
        "    torch.manual_seed(config.SEED)\n",
        "    torch.cuda.manual_seed_all(config.SEED)\n",
        "    np.random.seed(config.SEED)\n",
        "    random.seed(config.SEED)\n",
        "\n",
        "    concat_mask = True if 'P2C' in args.PATH else False\n",
        "    model = MST(config, concat_mask)\n",
        "    model.load()\n",
        "\n",
        "    files = glob.glob(args.image_path + '/**/*.png', recursive=True)\n",
        "\n",
        "    for f in files:\n",
        "      model.inference(f, os.path.join(args.mask_path, os.path.basename(f)), config.valid_th, config.mask_th,\n",
        "                      not_obj_remove=args.not_obj_remove)"
      ],
      "execution_count": null,
      "outputs": []
    },
    {
      "cell_type": "code",
      "metadata": {
        "id": "FtfW9AieH03W"
      },
      "source": [
        "# test folder\n",
        "%cd /content/MST_inpainting\n",
        "!python test_folder.py --gpu_id 0 \\\n",
        "                      --PATH /content/MST_inpainting \\\n",
        "                      --image_path /content/input/ \\\n",
        "                      --mask_path /content/mask/"
      ],
      "execution_count": null,
      "outputs": []
    }
  ]
}